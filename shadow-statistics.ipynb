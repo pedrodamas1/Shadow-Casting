{
 "cells": [
  {
   "cell_type": "code",
   "execution_count": 23,
   "metadata": {},
   "outputs": [
    {
     "data": {
      "image/png": "[encoded data removed]",
      "text/plain": [
       "<Figure size 640x480 with 1 Axes>"
      ]
     },
     "metadata": {},
     "output_type": "display_data"
    },
    {
     "name": "stderr",
     "output_type": "stream",
     "text": [
      "C:\\Users\\Pedro Damas\\AppData\\Local\\Temp\\ipykernel_11696\\167140061.py:63: FutureWarning:\n",
      "\n",
      "The default value of observed=False is deprecated and will change to observed=True in a future version of pandas. Specify observed=False to silence this warning and retain the current behavior\n",
      "\n"
     ]
    }
   ],
   "source": [
    "# Data handling and processing\n",
    "import pandas as pd\n",
    "import numpy as np\n",
    "\n",
    "# Solar position calculations\n",
    "from pvlib import solarposition\n",
    "\n",
    "# Display\n",
    "import seaborn as sns\n",
    "from IPython.display import display\n",
    "import matplotlib.pyplot as plt\n",
    "\n",
    "# Define the start and end dates, considering a whole day\n",
    "start = f'2024-06-21 00:00:00'\n",
    "end = f'2024-06-21 23:59:59'\n",
    "\n",
    "# Generate a sequence of datetimes in 1 minute intervals\n",
    "times = pd.date_range(start, end, freq='60min')\n",
    "\n",
    "# Calculate solar position for the daterange generated (coordinate for Peniche) \n",
    "df = solarposition.get_solarposition(times, latitude=39.34883424, longitude=-9.34298515)\n",
    "\n",
    "# Convert from the North-bearing CW azimuth reference frame to the East-bearing CCW polar reference frame\n",
    "df['theta'] = 90 - df['azimuth']\n",
    "\n",
    "# Calculate the shadow length\n",
    "df['shadow_length'] = 1 / np.tan(df['apparent_elevation'] * np.pi/180)\n",
    "\n",
    "# Remove nighttime\n",
    "df = df[df['apparent_elevation'] > 0]\n",
    "\n",
    "# Remove very long shadows\n",
    "df = df[df['shadow_length'].abs() < 5]\n",
    "\n",
    "# Loop over the dataframe\n",
    "X, Y = [], []\n",
    "for i, row in df.iterrows():\n",
    "\n",
    "\t# Create array of equally spaced points along the shadow\n",
    "\tr_arr = np.arange(0, row['shadow_length'], 0.1)\n",
    "\t\n",
    "\t#  Calculate the cartesian coordinates of the shadow\n",
    "\tx = r_arr * np.cos(row['theta'] * np.pi/180 )\n",
    "\ty = r_arr * np.sin(row['theta'] * np.pi/180 )\n",
    "\t\n",
    "\tplt.scatter(x, y, s=1)\n",
    "\tX += list(x)\n",
    "\tY += list(y)\n",
    "plt.show()\n",
    "data = {\n",
    "    'x': x,\n",
    "    'y': y,\n",
    "}\n",
    "\n",
    "df = pd.DataFrame(data)\n",
    "\n",
    "xbins = np.arange(df.x.min()-1, df.x.max()+1, 0.5)\n",
    "df['xbins'] = pd.cut(df['x'], xbins)\n",
    "ybins = np.arange(df.y.min()-1, df.y.max()+1, 0.5)\n",
    "df['ybins'] = pd.cut(df['y'], ybins)\n",
    "df['dummy'] = 1\n",
    "\n",
    "pvt = pd.pivot_table(df, index='ybins', columns='xbins', values='dummy', aggfunc='count')\n",
    "pvt.to_excel('teste.xlsx')\n",
    "#plt.imshow(pvt)"
   ]
  }
 ],
 "metadata": {
  "kernelspec": {
   "display_name": "Python 3",
   "language": "python",
   "name": "python3"
  },
  "language_info": {
   "codemirror_mode": {
    "name": "ipython",
    "version": 3
   },
   "file_extension": ".py",
   "mimetype": "text/x-python",
   "name": "python",
   "nbconvert_exporter": "python",
   "pygments_lexer": "ipython3",
   "version": "3.11.7"
  }
 },
 "nbformat": 4,
 "nbformat_minor": 2
}
